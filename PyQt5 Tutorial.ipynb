{
 "cells": [
  {
   "cell_type": "markdown",
   "id": "303a55aa",
   "metadata": {},
   "source": [
    "# 1. Getting Started\n",
    "\n",
    "First we will import the necessary libraries of PyQt5: QtCore, QtWidgets and QtGui"
   ]
  },
  {
   "cell_type": "code",
   "execution_count": 1,
   "id": "90490fc1",
   "metadata": {},
   "outputs": [],
   "source": [
    "from PyQt5.QtCore import *\n",
    "from PyQt5.QtWidgets import *\n",
    "from PyQt5.QtGui import *\n",
    "\n",
    "import sys"
   ]
  },
  {
   "cell_type": "markdown",
   "id": "c7c3ee02",
   "metadata": {},
   "source": [
    "Then we start with a simple structure of an app, creating a widget and showing it. A widget is a user interface object (e.g. button, tabs, graphics, but also a collection of them). "
   ]
  },
  {
   "cell_type": "code",
   "execution_count": 2,
   "id": "2322234e",
   "metadata": {},
   "outputs": [],
   "source": [
    "class my_widget(QWidget):\n",
    "    \"\"\"\n",
    "    This is my widget.\n",
    "    \"\"\"\n",
    "    def __init__(self):\n",
    "        super().__init__()\n",
    "        self.setWindowTitle('Hello Mars!')\n",
    "\n",
    "\n",
    "#The next piece of code is fundamental to run it on Jupyter, not so much on other IDE's\n",
    "#basically there can only be one pyqt5 application running for an interpreter\n",
    "#and it does not die simply by closing the app, so we need to check if there is already an application available\n",
    "\n",
    "qapp = QCoreApplication.instance()\n",
    "if qapp is None:\n",
    "    qapp = QApplication(sys.argv)\n",
    "    \n",
    "if __name__ == \"__main__\": \n",
    "    #start the widget\n",
    "    ui = my_widget()\n",
    "    #show the widget\n",
    "    ui.show()\n",
    "    #start the event loop\n",
    "    qapp.exec_()"
   ]
  },
  {
   "cell_type": "markdown",
   "id": "88f2b094",
   "metadata": {},
   "source": [
    "# 2. Introducing widget components\n",
    "\n",
    "There are many ways to use PyQt5 depending on the final ojectives. As our objective is to deploy GUI for the lab, we will follow a structure which constructs a GUI using layouts. \n",
    "\n",
    "## 2.1 Layouts and Buttons\n",
    "\n",
    "Layouts are a simple and automatic way of arranging child widgets within a widget to ensure that they make good use of the available space. Also they are useful for handling expanding/minimizing events."
   ]
  },
  {
   "cell_type": "code",
   "execution_count": 29,
   "id": "4e15c629",
   "metadata": {},
   "outputs": [],
   "source": [
    "class my_widget(QWidget):\n",
    "    \"\"\"\n",
    "    This is my widget.\n",
    "    \"\"\"\n",
    "    def __init__(self):\n",
    "        super().__init__()\n",
    "        \n",
    "        #add an horizontal global layout-\n",
    "        self.global_layout = QHBoxLayout(self)\n",
    "        \n",
    "        #add a button\n",
    "        self.button1 = QPushButton(self)\n",
    "        self.button1.setText('My Button')\n",
    "        self.global_layout.addWidget(self.button1)\n",
    "        \n",
    "        #add a QToolButton\n",
    "        self.button2 = QToolButton(self)\n",
    "        button2_icon = QIcon(\"icon.png\")\n",
    "        self.button2.setIcon(button2_icon)\n",
    "        self.button2.setIconSize(QSize(100,100))\n",
    "        self.global_layout.addWidget(self.button2)\n",
    "        \n",
    "        #add a Child Layout\n",
    "        self.child_layout = QVBoxLayout(self)\n",
    "        self.button3 = QRadioButton(self)\n",
    "        self.button3.setText('Radio')\n",
    "        self.child_layout.addWidget(self.button3)\n",
    "        self.button4 = QCheckBox('Check Box')\n",
    "        self.child_layout.addWidget(self.button4)\n",
    "        self.button5 = QDialogButtonBox(QDialogButtonBox.Ok)\n",
    "        self.child_layout.addWidget(self.button5)\n",
    "        self.button6 = QDialogButtonBox(QDialogButtonBox.Close)\n",
    "        self.child_layout.addWidget(self.button6)\n",
    "        self.global_layout.addLayout(self.child_layout)\n",
    "        \n",
    "#The next piece of code is fundamental to run it on Jupyter, not so much on other IDE's\n",
    "#basically there can only be one pyqt5 application running for an interpreter\n",
    "#and it does not die simply by closing the app, so we need to check if there is already an application available\n",
    "\n",
    "qapp = QCoreApplication.instance()\n",
    "if qapp is None:\n",
    "    qapp = QApplication(sys.argv)\n",
    "    \n",
    "if __name__ == \"__main__\": \n",
    "    #start the widget\n",
    "    ui = my_widget()\n",
    "    #show the widget\n",
    "    ui.show()\n",
    "    #start the event loop\n",
    "    qapp.exec_()    "
   ]
  },
  {
   "cell_type": "markdown",
   "id": "3624096c",
   "metadata": {},
   "source": [
    "Besides vertical and horizontal layouts, the grid layout is also interesting for organizing your GUI. Let's see how to use it, along with alignments and connect some functions to buttons events."
   ]
  },
  {
   "cell_type": "code",
   "execution_count": 41,
   "id": "393a1f91",
   "metadata": {},
   "outputs": [
    {
     "name": "stdout",
     "output_type": "stream",
     "text": [
      "Ok\n",
      "Ok\n",
      "Ok\n",
      "Ok\n",
      "Ok\n"
     ]
    }
   ],
   "source": [
    "class my_widget(QWidget):\n",
    "    \"\"\"\n",
    "    This is my widget.\n",
    "    \"\"\"\n",
    "    def __init__(self):\n",
    "        super().__init__()\n",
    "        \n",
    "        #add an horizontal global layout-\n",
    "        self.global_layout = QGridLayout(self)\n",
    "        \n",
    "        self.label = QLabel(self)\n",
    "        self.label.setText('One Label')\n",
    "        self.global_layout.addWidget(self.label,0,0,1,1,Qt.AlignLeft)\n",
    "        \n",
    "        self.button4 = QCheckBox('Check Box')\n",
    "        self.global_layout.addWidget(self.button4,1,0,1,1,Qt.AlignRight)\n",
    "        \n",
    "        self.button5 = QDialogButtonBox(QDialogButtonBox.Ok)\n",
    "        self.global_layout.addWidget(self.button5,0,1,1,2)\n",
    "        \n",
    "        self.button6 = QDialogButtonBox(QDialogButtonBox.Close)\n",
    "        self.global_layout.addWidget(self.button6,1,1,1,1)\n",
    "\n",
    "        \n",
    "        \n",
    "        self.button5.clicked.connect(lambda x: print('Ok'))\n",
    "        self.button4.stateChanged.connect(self.launch_dialog_method)\n",
    "        self.button6.clicked.connect(self.close)\n",
    "        \n",
    "        self.setLayout(self.global_layout)\n",
    "    \n",
    "    def launch_dialog_method(self):\n",
    "        if self.button4.isChecked():\n",
    "            QMessageBox.about(self, \"Warning\",\"You checked the box.\")\n",
    "        else:\n",
    "            pass\n",
    "        \n",
    "        \n",
    "        \n",
    "###################################################################\n",
    "\n",
    "qapp = QCoreApplication.instance()\n",
    "if qapp is None:\n",
    "    qapp = QApplication(sys.argv)\n",
    "    \n",
    "if __name__ == \"__main__\": \n",
    "    #start the widget\n",
    "    ui = my_widget()\n",
    "    #show the widget\n",
    "    ui.show()\n",
    "    #start the event loop\n",
    "    qapp.exec_()"
   ]
  },
  {
   "cell_type": "markdown",
   "id": "6ee2a72b",
   "metadata": {},
   "source": [
    "## 2.2 Containers and input widgets\n",
    "\n",
    "Containers are widgets that you can use to better organize your GUI. There are 4 types of containers pre-defined, Qframe, QTabWidget, QGroupBox and QToolBox. They appear distinct depending on the OS running on your PC but you can use stylesheets to modify them.\n",
    "\n",
    "On its turn input widgets are those you can use to interact with your GUI to set some parameters. We will take a look on some of them."
   ]
  },
  {
   "cell_type": "code",
   "execution_count": null,
   "id": "ffb5fd3f",
   "metadata": {},
   "outputs": [],
   "source": []
  },
  {
   "cell_type": "markdown",
   "id": "7803aa35",
   "metadata": {},
   "source": [
    "# 2.3. Item lists"
   ]
  },
  {
   "cell_type": "code",
   "execution_count": null,
   "id": "ae89ff08",
   "metadata": {},
   "outputs": [],
   "source": []
  },
  {
   "cell_type": "markdown",
   "id": "86917a5a",
   "metadata": {},
   "source": [
    "## 3. Handling long processes: threads"
   ]
  },
  {
   "cell_type": "code",
   "execution_count": null,
   "id": "789d54e3",
   "metadata": {},
   "outputs": [],
   "source": []
  },
  {
   "cell_type": "code",
   "execution_count": null,
   "id": "5eb1626e",
   "metadata": {},
   "outputs": [],
   "source": []
  },
  {
   "cell_type": "code",
   "execution_count": null,
   "id": "62ae63dd",
   "metadata": {},
   "outputs": [],
   "source": []
  }
 ],
 "metadata": {
  "kernelspec": {
   "display_name": "Python 3",
   "language": "python",
   "name": "python3"
  },
  "language_info": {
   "codemirror_mode": {
    "name": "ipython",
    "version": 3
   },
   "file_extension": ".py",
   "mimetype": "text/x-python",
   "name": "python",
   "nbconvert_exporter": "python",
   "pygments_lexer": "ipython3",
   "version": "3.5.6"
  }
 },
 "nbformat": 4,
 "nbformat_minor": 5
}
